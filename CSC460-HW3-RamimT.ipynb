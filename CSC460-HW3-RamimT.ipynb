{
 "cells": [
  {
   "cell_type": "markdown",
   "metadata": {},
   "source": [
    "Import libraries and dependencies"
   ]
  },
  {
   "cell_type": "code",
   "execution_count": 43,
   "metadata": {},
   "outputs": [],
   "source": [
    "import pandas as pd\n",
    "from bs4 import BeautifulSoup\n",
    "import requests\n",
    "from datetime import datetime, timedelta"
   ]
  },
  {
   "cell_type": "markdown",
   "metadata": {},
   "source": [
    "Parse the site for the calendar"
   ]
  },
  {
   "cell_type": "code",
   "execution_count": 44,
   "metadata": {},
   "outputs": [],
   "source": [
    "url = \"https://www.ccny.cuny.edu/registrar/fall\"\n",
    "response = requests.get(url)\n",
    "soup = BeautifulSoup(response.text, 'html.parser')"
   ]
  },
  {
   "cell_type": "markdown",
   "metadata": {},
   "source": [
    "Extract the data"
   ]
  },
  {
   "cell_type": "code",
   "execution_count": 45,
   "metadata": {},
   "outputs": [],
   "source": [
    "rows = soup.find_all(\"tr\")\n",
    "dates = []\n",
    "dows = []\n",
    "texts = []\n",
    "\n",
    "def process_date_range(date_range_str, text):\n",
    "    date_range = date_range_str.split(\"-\")\n",
    "    start_raw = date_range[0].strip() + \", 2021\"\n",
    "    month = start_raw.split(\" \")[0]\n",
    "    end_raw = month + \" \" + date_range[1].strip() + \", 2021\"\n",
    "    \n",
    "    # Convert to datetime objects\n",
    "    start_obj = datetime.strptime(start_raw, \"%B %d, %Y\").date()\n",
    "    end_obj = datetime.strptime(end_raw, \"%B %d, %Y\").date()\n",
    "    \n",
    "    # Loop through range and append each date\n",
    "    date_list = []\n",
    "    while start_obj <= end_obj:\n",
    "        date_list.append((start_obj.strftime(\"%Y-%m-%d\"), start_obj.strftime(\"%A\"), text))\n",
    "        start_obj += timedelta(days=1)\n",
    "    return date_list\n",
    "\n",
    "for row in rows:\n",
    "    cells = row.find_all(\"td\")\n",
    "    if len(cells) >= 3: \n",
    "        date = cells[0].text.strip()\n",
    "        dow = cells[1].text.strip()  \n",
    "        text = cells[2].text.strip()\n",
    "        \n",
    "        text = text.replace(\"\\n\", \" \").replace(\"\\t\", \" \").strip()\n",
    "        \n",
    "        # Date ranges\n",
    "        if \"-\" in date:\n",
    "            date_list = process_date_range(date, text)\n",
    "            for formatted_date, dow, text in date_list:\n",
    "                dates.append(formatted_date)\n",
    "                dows.append(dow)\n",
    "                texts.append(text)\n",
    "        else:\n",
    "            # Single dates\n",
    "            if \"2022\" in date:\n",
    "                date_obj = datetime.strptime(date, \"%B %d, %Y\").date()\n",
    "            else:\n",
    "                date += \", 2021\"\n",
    "                date_obj = datetime.strptime(date, \"%B %d, %Y\").date()\n",
    "                \n",
    "            dates.append(date_obj.strftime(\"%Y-%m-%d\"))\n",
    "            dows.append(date_obj.strftime(\"%A\"))\n",
    "            texts.append(text)"
   ]
  },
  {
   "cell_type": "markdown",
   "metadata": {},
   "source": [
    "Build the dataframe"
   ]
  },
  {
   "cell_type": "code",
   "execution_count": 46,
   "metadata": {},
   "outputs": [
    {
     "name": "stdout",
     "output_type": "stream",
     "text": [
      "                  dow                                               text\n",
      "date                                                                    \n",
      "2021-08-01     Sunday  Application for degree for January and Februar...\n",
      "2021-08-18  Wednesday                 Last day to apply for Study Abroad\n",
      "2021-08-24    Tuesday  Last day of Registration;    Last day to file ...\n",
      "2021-08-25  Wednesday  Start of Fall Term;    Classes begin;    Initi...\n",
      "2021-08-25  Wednesday          Change of program period; late fees apply\n",
      "2021-08-26   Thursday          Change of program period; late fees apply\n",
      "2021-08-27     Friday          Change of program period; late fees apply\n",
      "2021-08-28   Saturday          Change of program period; late fees apply\n",
      "2021-08-29     Sunday          Change of program period; late fees apply\n",
      "2021-08-30     Monday          Change of program period; late fees apply\n",
      "2021-08-31    Tuesday          Change of program period; late fees apply\n",
      "2021-08-26   Thursday                     Last day for Independent Study\n",
      "2021-08-28   Saturday                      First day of Saturday Classes\n",
      "2021-08-31    Tuesday  Last day to add a class to an existing enrollm...\n",
      "2021-09-01  Wednesday  Verification of Enrollment rosters available t...\n",
      "2021-09-03     Friday                               No classes scheduled\n",
      "2021-09-04   Saturday                               No classes scheduled\n",
      "2021-09-05     Sunday                               No classes scheduled\n",
      "2021-09-06     Monday                               No classes scheduled\n",
      "2021-09-07    Tuesday                               No classes scheduled\n",
      "2021-09-08  Wednesday                               No classes scheduled\n",
      "2021-09-06     Monday  College Closed;    Last day for 50% tuition re...\n",
      "2021-09-09   Thursday                               Freshman Convocation\n",
      "2021-09-14    Tuesday  Last day for 25% tuition refund;    Census dat...\n",
      "2021-09-15  Wednesday  Assignment of 'WN' grades for non-attendance; ...\n",
      "2021-09-15  Wednesday                               No classes scheduled\n",
      "2021-09-16   Thursday                               No classes scheduled\n",
      "2021-09-23   Thursday  Last day to submit proof of immunization for N...\n",
      "2021-09-24     Friday  Assignment of 'WA' grades for immunization non...\n",
      "2021-10-01     Friday  Advising month begins for Spring and Winter en...\n",
      "2021-10-08     Friday  Deadline for filing application for degree for...\n",
      "2021-10-11     Monday                                     College Closed\n",
      "2021-11-01     Monday  'INC' grades for Spring 2021 and Winter 2021 f...\n",
      "2021-11-02    Tuesday  Registration appointments for Winter and Sprin...\n",
      "2021-11-04   Thursday                   Last day to file for P/NC option\n",
      "2021-11-06   Saturday                               60% Date of the term\n",
      "2021-11-23    Tuesday  'INC' grades for Summer 2021 for Undergraduate...\n",
      "2021-11-25   Thursday                                     College Closed\n",
      "2021-11-26     Friday                                     College Closed\n",
      "2021-11-27   Saturday                                     College Closed\n",
      "2021-11-28     Sunday                                     College Closed\n",
      "2021-12-11   Saturday                       Last day of Saturday Classes\n",
      "2021-12-13     Monday  Course Withdrawal period ends (Last day to wit...\n",
      "2021-12-14    Tuesday                                        Reading Day\n",
      "2021-12-15  Wednesday                                 Final Examinations\n",
      "2021-12-16   Thursday                                 Final Examinations\n",
      "2021-12-17     Friday                                 Final Examinations\n",
      "2021-12-18   Saturday                                 Final Examinations\n",
      "2021-12-19     Sunday                                 Final Examinations\n",
      "2021-12-20     Monday                                 Final Examinations\n",
      "2021-12-21    Tuesday                                 Final Examinations\n",
      "2021-12-21    Tuesday                                        End of Term\n",
      "2021-12-24     Friday                                     College Closed\n",
      "2021-12-25   Saturday                                     College Closed\n",
      "2021-12-27     Monday                                     College Closed\n",
      "2021-12-28    Tuesday      Final Grade Submission Deadline for Fall 2021\n",
      "2021-12-31     Friday                                     College Closed\n",
      "2022-01-01   Saturday  College Closed;    Fall 2021 Degree Conferral ...\n"
     ]
    }
   ],
   "source": [
    "df = pd.DataFrame({'date': dates, 'dow': dows, 'text': texts})\n",
    "df['date'] = pd.to_datetime(df['date'])\n",
    "df.set_index('date', inplace=True)\n",
    "\n",
    "print(df)"
   ]
  }
 ],
 "metadata": {
  "kernelspec": {
   "display_name": "Python 3",
   "language": "python",
   "name": "python3"
  },
  "language_info": {
   "codemirror_mode": {
    "name": "ipython",
    "version": 3
   },
   "file_extension": ".py",
   "mimetype": "text/x-python",
   "name": "python",
   "nbconvert_exporter": "python",
   "pygments_lexer": "ipython3",
   "version": "3.12.2"
  }
 },
 "nbformat": 4,
 "nbformat_minor": 2
}
